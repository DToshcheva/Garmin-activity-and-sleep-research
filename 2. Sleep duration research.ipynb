{
 "cells": [
  {
   "cell_type": "raw",
   "id": "7df35bb8-8993-4bb2-8334-636f551a240d",
   "metadata": {},
   "source": [
    "Изучаем длительность сна, время отхода ко сну, структуру сна"
   ]
  },
  {
   "cell_type": "code",
   "execution_count": 1,
   "id": "21e55755-6024-4bb5-9d71-921b27838992",
   "metadata": {
    "tags": []
   },
   "outputs": [],
   "source": [
    "import pandas as pd\n",
    "import numpy as np\n",
    "from matplotlib import pyplot as plt"
   ]
  },
  {
   "cell_type": "code",
   "execution_count": 2,
   "id": "b439438a-ba91-4df9-9bb6-e28295169451",
   "metadata": {
    "tags": []
   },
   "outputs": [],
   "source": [
    "# Подключаем датафрейм\n",
    "%store -r data"
   ]
  },
  {
   "cell_type": "code",
   "execution_count": 3,
   "id": "393573ce-ccb3-411f-b8c8-c369f69110f2",
   "metadata": {
    "tags": []
   },
   "outputs": [
    {
     "data": {
      "text/html": [
       "<div>\n",
       "<style scoped>\n",
       "    .dataframe tbody tr th:only-of-type {\n",
       "        vertical-align: middle;\n",
       "    }\n",
       "\n",
       "    .dataframe tbody tr th {\n",
       "        vertical-align: top;\n",
       "    }\n",
       "\n",
       "    .dataframe thead th {\n",
       "        text-align: right;\n",
       "    }\n",
       "</style>\n",
       "<table border=\"1\" class=\"dataframe\">\n",
       "  <thead>\n",
       "    <tr style=\"text-align: right;\">\n",
       "      <th></th>\n",
       "      <th>sleepStartTimestampGMT</th>\n",
       "      <th>sleepEndTimestampGMT</th>\n",
       "      <th>calendarDate</th>\n",
       "      <th>deepSleepSeconds</th>\n",
       "      <th>lightSleepSeconds</th>\n",
       "      <th>remSleepSeconds</th>\n",
       "      <th>awakeSleepSeconds</th>\n",
       "      <th>unmeasurableSeconds</th>\n",
       "      <th>totalSleep</th>\n",
       "      <th>totalKilocalories</th>\n",
       "      <th>...</th>\n",
       "      <th>activeSeconds</th>\n",
       "      <th>currentDayRestingHeartRate</th>\n",
       "      <th>bodyBattery.chargedValue</th>\n",
       "      <th>bodyBattery.drainedValue</th>\n",
       "      <th>allDayStress.averageStressLevel</th>\n",
       "      <th>allDayStress.averageStressLevelIntensity</th>\n",
       "      <th>allDayStress.totalDuration</th>\n",
       "      <th>allDayStress.lowDuration</th>\n",
       "      <th>allDayStress.mediumDuration</th>\n",
       "      <th>allDayStress.highDuration</th>\n",
       "    </tr>\n",
       "  </thead>\n",
       "  <tbody>\n",
       "    <tr>\n",
       "      <th>0</th>\n",
       "      <td>2021-01-02 02:51:00</td>\n",
       "      <td>2021-01-02 11:01:00</td>\n",
       "      <td>2021-01-02</td>\n",
       "      <td>3300.0</td>\n",
       "      <td>20520.0</td>\n",
       "      <td>5460.0</td>\n",
       "      <td>120.0</td>\n",
       "      <td>0.0</td>\n",
       "      <td>29400.0</td>\n",
       "      <td>1762.0</td>\n",
       "      <td>...</td>\n",
       "      <td>5995</td>\n",
       "      <td>64</td>\n",
       "      <td>46.0</td>\n",
       "      <td>73.0</td>\n",
       "      <td>52</td>\n",
       "      <td>49</td>\n",
       "      <td>56700</td>\n",
       "      <td>13980.0</td>\n",
       "      <td>16740.0</td>\n",
       "      <td>5820.0</td>\n",
       "    </tr>\n",
       "    <tr>\n",
       "      <th>1</th>\n",
       "      <td>2021-01-03 03:34:00</td>\n",
       "      <td>2021-01-03 12:00:00</td>\n",
       "      <td>2021-01-03</td>\n",
       "      <td>3900.0</td>\n",
       "      <td>18000.0</td>\n",
       "      <td>8340.0</td>\n",
       "      <td>120.0</td>\n",
       "      <td>0.0</td>\n",
       "      <td>30360.0</td>\n",
       "      <td>1704.0</td>\n",
       "      <td>...</td>\n",
       "      <td>4325</td>\n",
       "      <td>64</td>\n",
       "      <td>34.0</td>\n",
       "      <td>33.0</td>\n",
       "      <td>50</td>\n",
       "      <td>49</td>\n",
       "      <td>55920</td>\n",
       "      <td>17220.0</td>\n",
       "      <td>18540.0</td>\n",
       "      <td>3300.0</td>\n",
       "    </tr>\n",
       "    <tr>\n",
       "      <th>2</th>\n",
       "      <td>2021-01-04 03:33:00</td>\n",
       "      <td>2021-01-04 10:44:00</td>\n",
       "      <td>2021-01-04</td>\n",
       "      <td>0.0</td>\n",
       "      <td>11880.0</td>\n",
       "      <td>13920.0</td>\n",
       "      <td>60.0</td>\n",
       "      <td>0.0</td>\n",
       "      <td>25860.0</td>\n",
       "      <td>1628.0</td>\n",
       "      <td>...</td>\n",
       "      <td>4544</td>\n",
       "      <td>66</td>\n",
       "      <td>77.0</td>\n",
       "      <td>41.0</td>\n",
       "      <td>33</td>\n",
       "      <td>27</td>\n",
       "      <td>60240</td>\n",
       "      <td>16020.0</td>\n",
       "      <td>5700.0</td>\n",
       "      <td>1380.0</td>\n",
       "    </tr>\n",
       "    <tr>\n",
       "      <th>3</th>\n",
       "      <td>2021-01-05 02:31:00</td>\n",
       "      <td>2021-01-05 12:04:00</td>\n",
       "      <td>2021-01-05</td>\n",
       "      <td>6300.0</td>\n",
       "      <td>16200.0</td>\n",
       "      <td>11820.0</td>\n",
       "      <td>60.0</td>\n",
       "      <td>0.0</td>\n",
       "      <td>34380.0</td>\n",
       "      <td>1571.0</td>\n",
       "      <td>...</td>\n",
       "      <td>2575</td>\n",
       "      <td>66</td>\n",
       "      <td>64.0</td>\n",
       "      <td>47.0</td>\n",
       "      <td>30</td>\n",
       "      <td>24</td>\n",
       "      <td>51960</td>\n",
       "      <td>9240.0</td>\n",
       "      <td>6240.0</td>\n",
       "      <td>660.0</td>\n",
       "    </tr>\n",
       "    <tr>\n",
       "      <th>4</th>\n",
       "      <td>2021-01-06 04:14:00</td>\n",
       "      <td>2021-01-06 11:53:00</td>\n",
       "      <td>2021-01-06</td>\n",
       "      <td>1380.0</td>\n",
       "      <td>19140.0</td>\n",
       "      <td>7020.0</td>\n",
       "      <td>0.0</td>\n",
       "      <td>0.0</td>\n",
       "      <td>27540.0</td>\n",
       "      <td>1910.0</td>\n",
       "      <td>...</td>\n",
       "      <td>6908</td>\n",
       "      <td>65</td>\n",
       "      <td>42.0</td>\n",
       "      <td>70.0</td>\n",
       "      <td>35</td>\n",
       "      <td>28</td>\n",
       "      <td>58680</td>\n",
       "      <td>9180.0</td>\n",
       "      <td>7800.0</td>\n",
       "      <td>1440.0</td>\n",
       "    </tr>\n",
       "  </tbody>\n",
       "</table>\n",
       "<p>5 rows × 23 columns</p>\n",
       "</div>"
      ],
      "text/plain": [
       "  sleepStartTimestampGMT sleepEndTimestampGMT calendarDate  deepSleepSeconds   \n",
       "0    2021-01-02 02:51:00  2021-01-02 11:01:00   2021-01-02            3300.0  \\\n",
       "1    2021-01-03 03:34:00  2021-01-03 12:00:00   2021-01-03            3900.0   \n",
       "2    2021-01-04 03:33:00  2021-01-04 10:44:00   2021-01-04               0.0   \n",
       "3    2021-01-05 02:31:00  2021-01-05 12:04:00   2021-01-05            6300.0   \n",
       "4    2021-01-06 04:14:00  2021-01-06 11:53:00   2021-01-06            1380.0   \n",
       "\n",
       "   lightSleepSeconds  remSleepSeconds  awakeSleepSeconds  unmeasurableSeconds   \n",
       "0            20520.0           5460.0              120.0                  0.0  \\\n",
       "1            18000.0           8340.0              120.0                  0.0   \n",
       "2            11880.0          13920.0               60.0                  0.0   \n",
       "3            16200.0          11820.0               60.0                  0.0   \n",
       "4            19140.0           7020.0                0.0                  0.0   \n",
       "\n",
       "   totalSleep  totalKilocalories  ...  activeSeconds   \n",
       "0     29400.0             1762.0  ...           5995  \\\n",
       "1     30360.0             1704.0  ...           4325   \n",
       "2     25860.0             1628.0  ...           4544   \n",
       "3     34380.0             1571.0  ...           2575   \n",
       "4     27540.0             1910.0  ...           6908   \n",
       "\n",
       "   currentDayRestingHeartRate  bodyBattery.chargedValue   \n",
       "0                          64                      46.0  \\\n",
       "1                          64                      34.0   \n",
       "2                          66                      77.0   \n",
       "3                          66                      64.0   \n",
       "4                          65                      42.0   \n",
       "\n",
       "   bodyBattery.drainedValue  allDayStress.averageStressLevel   \n",
       "0                      73.0                               52  \\\n",
       "1                      33.0                               50   \n",
       "2                      41.0                               33   \n",
       "3                      47.0                               30   \n",
       "4                      70.0                               35   \n",
       "\n",
       "   allDayStress.averageStressLevelIntensity  allDayStress.totalDuration   \n",
       "0                                        49                       56700  \\\n",
       "1                                        49                       55920   \n",
       "2                                        27                       60240   \n",
       "3                                        24                       51960   \n",
       "4                                        28                       58680   \n",
       "\n",
       "   allDayStress.lowDuration  allDayStress.mediumDuration   \n",
       "0                   13980.0                      16740.0  \\\n",
       "1                   17220.0                      18540.0   \n",
       "2                   16020.0                       5700.0   \n",
       "3                    9240.0                       6240.0   \n",
       "4                    9180.0                       7800.0   \n",
       "\n",
       "   allDayStress.highDuration  \n",
       "0                     5820.0  \n",
       "1                     3300.0  \n",
       "2                     1380.0  \n",
       "3                      660.0  \n",
       "4                     1440.0  \n",
       "\n",
       "[5 rows x 23 columns]"
      ]
     },
     "execution_count": 3,
     "metadata": {},
     "output_type": "execute_result"
    }
   ],
   "source": [
    "data.head()"
   ]
  },
  {
   "cell_type": "code",
   "execution_count": 4,
   "id": "5b436c16-0747-4567-8f05-f9b6fd10ff62",
   "metadata": {
    "tags": []
   },
   "outputs": [],
   "source": [
    "# Функция расчет количества групп для гистограммы\n",
    "\n",
    "def group_number(x):\n",
    "    return round(3.31*np.log10(len(x))+1)"
   ]
  },
  {
   "cell_type": "code",
   "execution_count": 5,
   "id": "b66af96f-b79d-4cba-b8a2-052222ee6d58",
   "metadata": {
    "tags": []
   },
   "outputs": [
    {
     "data": {
      "text/plain": [
       "10"
      ]
     },
     "execution_count": 5,
     "metadata": {},
     "output_type": "execute_result"
    }
   ],
   "source": [
    "# Определяем число групп для количества наблюдений:\n",
    "\n",
    "n = group_number(data['totalSleep'])\n",
    "n"
   ]
  },
  {
   "cell_type": "code",
   "execution_count": 6,
   "id": "eaaeeb88-9a09-4ae1-bcf1-57961064b5c4",
   "metadata": {
    "tags": []
   },
   "outputs": [
    {
     "data": {
      "text/html": [
       "<div>\n",
       "<style scoped>\n",
       "    .dataframe tbody tr th:only-of-type {\n",
       "        vertical-align: middle;\n",
       "    }\n",
       "\n",
       "    .dataframe tbody tr th {\n",
       "        vertical-align: top;\n",
       "    }\n",
       "\n",
       "    .dataframe thead th {\n",
       "        text-align: right;\n",
       "    }\n",
       "</style>\n",
       "<table border=\"1\" class=\"dataframe\">\n",
       "  <thead>\n",
       "    <tr style=\"text-align: right;\">\n",
       "      <th></th>\n",
       "      <th>totalSleep</th>\n",
       "      <th>count</th>\n",
       "    </tr>\n",
       "  </thead>\n",
       "  <tbody>\n",
       "    <tr>\n",
       "      <th>6</th>\n",
       "      <td>(1.288, 2.47]</td>\n",
       "      <td>4</td>\n",
       "    </tr>\n",
       "    <tr>\n",
       "      <th>7</th>\n",
       "      <td>(2.47, 3.64]</td>\n",
       "      <td>4</td>\n",
       "    </tr>\n",
       "    <tr>\n",
       "      <th>5</th>\n",
       "      <td>(3.64, 4.81]</td>\n",
       "      <td>15</td>\n",
       "    </tr>\n",
       "    <tr>\n",
       "      <th>3</th>\n",
       "      <td>(4.81, 5.98]</td>\n",
       "      <td>38</td>\n",
       "    </tr>\n",
       "    <tr>\n",
       "      <th>1</th>\n",
       "      <td>(5.98, 7.15]</td>\n",
       "      <td>201</td>\n",
       "    </tr>\n",
       "  </tbody>\n",
       "</table>\n",
       "</div>"
      ],
      "text/plain": [
       "      totalSleep  count\n",
       "6  (1.288, 2.47]      4\n",
       "7   (2.47, 3.64]      4\n",
       "5   (3.64, 4.81]     15\n",
       "3   (4.81, 5.98]     38\n",
       "1   (5.98, 7.15]    201"
      ]
     },
     "execution_count": 6,
     "metadata": {},
     "output_type": "execute_result"
    }
   ],
   "source": [
    "# Группируем данные и  сситаем количество наблюдений в группах\n",
    "\n",
    "total_sleep_count = pd.cut(data['totalSleep'].div(3600).round(1), n).value_counts().to_frame().reset_index().sort_values(by='totalSleep')\n",
    "total_sleep_count.head()"
   ]
  },
  {
   "cell_type": "code",
   "execution_count": 7,
   "id": "8cd70065-2eef-448c-86a4-635fcdeb9b58",
   "metadata": {
    "tags": []
   },
   "outputs": [
    {
     "data": {
      "image/png": "[encoded data removed]",
      "text/plain": [
       "<Figure size 1500x200 with 1 Axes>"
      ]
     },
     "metadata": {},
     "output_type": "display_data"
    }
   ],
   "source": [
    "# Гистограмма распределения длительности сна\n",
    "\n",
    "plt.figure(figsize=(15, 2))\n",
    "plt.bar(total_sleep_count['totalSleep'].astype(str),total_sleep_count['count'])\n",
    "plt.title('Распределение длительности сна')\n",
    "plt.xlabel('Кол-во часов сна') # Подпись оси x\n",
    "plt.ylabel('Частота') # Подпись оси y\n",
    "plt.show()"
   ]
  },
  {
   "cell_type": "code",
   "execution_count": 8,
   "id": "c3b07be9-5287-4931-90e4-82a7565f6667",
   "metadata": {
    "tags": []
   },
   "outputs": [
    {
     "data": {
      "text/plain": [
       "Text(0, 0.5, 'Кол-во часов сна')"
      ]
     },
     "execution_count": 8,
     "metadata": {},
     "output_type": "execute_result"
    },
    {
     "data": {
      "image/png": "[encoded data removed]",
      "text/plain": [
       "<Figure size 640x480 with 1 Axes>"
      ]
     },
     "metadata": {},
     "output_type": "display_data"
    }
   ],
   "source": [
    "# Смотрим выбросы\n",
    "\n",
    "plt.boxplot(data['totalSleep'].div(3600))\n",
    "plt.title('Разброс длительности сна') # Заголовок таблицы\n",
    "plt.ylabel('Кол-во часов сна') # Подпись оси x"
   ]
  },
  {
   "cell_type": "code",
   "execution_count": 9,
   "id": "d492538b-cce5-4f5c-86a6-016fea5b5d2a",
   "metadata": {
    "tags": []
   },
   "outputs": [
    {
     "data": {
      "text/html": [
       "<div>\n",
       "<style scoped>\n",
       "    .dataframe tbody tr th:only-of-type {\n",
       "        vertical-align: middle;\n",
       "    }\n",
       "\n",
       "    .dataframe tbody tr th {\n",
       "        vertical-align: top;\n",
       "    }\n",
       "\n",
       "    .dataframe thead th {\n",
       "        text-align: right;\n",
       "    }\n",
       "</style>\n",
       "<table border=\"1\" class=\"dataframe\">\n",
       "  <thead>\n",
       "    <tr style=\"text-align: right;\">\n",
       "      <th></th>\n",
       "      <th>count</th>\n",
       "      <th>mean</th>\n",
       "      <th>std</th>\n",
       "      <th>min</th>\n",
       "      <th>25%</th>\n",
       "      <th>50%</th>\n",
       "      <th>75%</th>\n",
       "      <th>max</th>\n",
       "    </tr>\n",
       "  </thead>\n",
       "  <tbody>\n",
       "    <tr>\n",
       "      <th>deepSleepSeconds</th>\n",
       "      <td>0.205</td>\n",
       "      <td>1.012308</td>\n",
       "      <td>0.641097</td>\n",
       "      <td>0.000000</td>\n",
       "      <td>0.55</td>\n",
       "      <td>0.950000</td>\n",
       "      <td>1.416667</td>\n",
       "      <td>3.400000</td>\n",
       "    </tr>\n",
       "    <tr>\n",
       "      <th>lightSleepSeconds</th>\n",
       "      <td>0.205</td>\n",
       "      <td>5.109598</td>\n",
       "      <td>1.085341</td>\n",
       "      <td>0.650000</td>\n",
       "      <td>4.50</td>\n",
       "      <td>5.133333</td>\n",
       "      <td>5.816667</td>\n",
       "      <td>8.750000</td>\n",
       "    </tr>\n",
       "    <tr>\n",
       "      <th>remSleepSeconds</th>\n",
       "      <td>0.205</td>\n",
       "      <td>1.309530</td>\n",
       "      <td>0.715958</td>\n",
       "      <td>0.016667</td>\n",
       "      <td>0.75</td>\n",
       "      <td>1.250000</td>\n",
       "      <td>1.800000</td>\n",
       "      <td>4.116667</td>\n",
       "    </tr>\n",
       "    <tr>\n",
       "      <th>awakeSleepSeconds</th>\n",
       "      <td>0.205</td>\n",
       "      <td>0.067999</td>\n",
       "      <td>0.148141</td>\n",
       "      <td>0.000000</td>\n",
       "      <td>0.00</td>\n",
       "      <td>0.016667</td>\n",
       "      <td>0.050000</td>\n",
       "      <td>1.166667</td>\n",
       "    </tr>\n",
       "  </tbody>\n",
       "</table>\n",
       "</div>"
      ],
      "text/plain": [
       "                   count      mean       std       min   25%       50%   \n",
       "deepSleepSeconds   0.205  1.012308  0.641097  0.000000  0.55  0.950000  \\\n",
       "lightSleepSeconds  0.205  5.109598  1.085341  0.650000  4.50  5.133333   \n",
       "remSleepSeconds    0.205  1.309530  0.715958  0.016667  0.75  1.250000   \n",
       "awakeSleepSeconds  0.205  0.067999  0.148141  0.000000  0.00  0.016667   \n",
       "\n",
       "                        75%       max  \n",
       "deepSleepSeconds   1.416667  3.400000  \n",
       "lightSleepSeconds  5.816667  8.750000  \n",
       "remSleepSeconds    1.800000  4.116667  \n",
       "awakeSleepSeconds  0.050000  1.166667  "
      ]
     },
     "execution_count": 9,
     "metadata": {},
     "output_type": "execute_result"
    }
   ],
   "source": [
    "# Выводим статистику\n",
    "\n",
    "sleep_stat = data[['deepSleepSeconds', 'lightSleepSeconds','remSleepSeconds', 'awakeSleepSeconds']].describe().div(3600).T\n",
    "sleep_stat"
   ]
  },
  {
   "cell_type": "code",
   "execution_count": 10,
   "id": "be149a90-cb98-4f13-bced-d57a9af226a5",
   "metadata": {
    "tags": []
   },
   "outputs": [
    {
     "data": {
      "image/png": "[encoded data removed]",
      "text/plain": [
       "<Figure size 640x480 with 1 Axes>"
      ]
     },
     "metadata": {},
     "output_type": "display_data"
    }
   ],
   "source": [
    "# Смотрим структуру сна\n",
    "\n",
    "plt.pie(round(sleep_stat['mean']/sleep_stat['mean'].sum()*100,1), labels = sleep_stat.index, autopct='%1.1f%%')\n",
    "plt.show()"
   ]
  },
  {
   "cell_type": "raw",
   "id": "474e59ad-00ec-4998-825e-13ca65ea36c2",
   "metadata": {},
   "source": [
    "Выводы:\n",
    "    REM-фаза сна (функция: консолидации процедурной памяти == запоминание навыков) в среднем состоявляет 1 час (17,5% от общей длительности сна, ниже рекомендуемой нормы (15%-20%))\n",
    "    Глубокий сон (функция: структурирование памяти, восстановительные процессы в тканях) в среднем состоявляет 40 минут (13,5% от общей длительности сна, ниже рекомендуемой нормы (20%-25%)"
   ]
  },
  {
   "cell_type": "code",
   "execution_count": null,
   "id": "f4cd0d21-1874-4584-a004-80602e037237",
   "metadata": {},
   "outputs": [],
   "source": []
  },
  {
   "cell_type": "code",
   "execution_count": null,
   "id": "6d8ffc7d-976a-49af-bf25-85a1198a8fe6",
   "metadata": {},
   "outputs": [],
   "source": []
  },
  {
   "cell_type": "code",
   "execution_count": 11,
   "id": "9bfac2d5-4f4c-4163-811d-1270abc7f333",
   "metadata": {
    "tags": []
   },
   "outputs": [],
   "source": [
    "# Преобразование времени отходу ко сну к ед.изм \"Кол-во часов до (-)/после (+) полуночи\"\n",
    "\n",
    "start_time = data['sleepStartTimestampGMT'] - pd.to_datetime(data['sleepStartTimestampGMT'].dt.date)\n",
    "start_time = round(start_time.dt.seconds/3600,2)\n",
    "\n",
    "start_AM = start_time.where(start_time<18, other=start_time-24)"
   ]
  },
  {
   "cell_type": "code",
   "execution_count": 12,
   "id": "f93601bd-9070-4c12-8c32-a31f32e8899f",
   "metadata": {
    "tags": []
   },
   "outputs": [],
   "source": [
    "# Преобразование длительности сна в часы\n",
    "\n",
    "duration = data['sleepEndTimestampGMT'] - data['sleepStartTimestampGMT']\n",
    "duration = round(duration.dt.seconds/3600,2)"
   ]
  },
  {
   "cell_type": "code",
   "execution_count": 13,
   "id": "834fc232-75f9-4596-86a2-b940e683b5b0",
   "metadata": {
    "tags": []
   },
   "outputs": [],
   "source": [
    "# Подготовка датафрейма для построения графика\n",
    "\n",
    "duration_bar = pd.DataFrame({'date': data['calendarDate'],'start': start_AM, 'duration': duration})"
   ]
  },
  {
   "cell_type": "code",
   "execution_count": 14,
   "id": "9dbe6483-7bce-4e2a-b9ff-b027b980978e",
   "metadata": {
    "tags": []
   },
   "outputs": [
    {
     "data": {
      "image/png": "[encoded data removed]",
      "text/plain": [
       "<Figure size 2000x500 with 1 Axes>"
      ]
     },
     "metadata": {},
     "output_type": "display_data"
    }
   ],
   "source": [
    "# График длительности сна и времени отхода ко сну за весь период\n",
    "\n",
    "plt.figure(figsize=(20, 5))\n",
    "labels = duration_bar['date']\n",
    "#plt.bar(labels, duration_bar['start'], label='start time')\n",
    "plt.bar(labels, duration_bar['duration'], label = 'duration',  bottom=duration_bar['start'], color ='lightskyblue')\n",
    "plt.legend()\n",
    "plt.ylim(duration_bar['start'].min()-1,duration_bar['duration'].max()+1 )\n",
    "plt.ylabel('Часов, -/+ от полонучи') # Подпись оси x\n",
    "plt.savefig('saved_figure.png', dpi=1000)\n",
    "plt.hlines(0, labels.min(), labels.max(), 'red',':')\n",
    "plt.hlines(2, labels.min(), labels.max(), 'darkred',':')\n",
    "plt.hlines(8, labels.min(), labels.max(), 'green',':')\n",
    "plt.yticks(np.arange(round(duration_bar['start'].min()),round(duration_bar['duration'].max())+2,1))\n",
    "plt.title('Длительность сна и время отхода ко сну')\n",
    "plt.show()"
   ]
  },
  {
   "cell_type": "code",
   "execution_count": 15,
   "id": "d0694e72-a20f-4737-9d81-79a5468a9f80",
   "metadata": {
    "tags": []
   },
   "outputs": [
    {
     "data": {
      "text/html": [
       "<div>\n",
       "<style scoped>\n",
       "    .dataframe tbody tr th:only-of-type {\n",
       "        vertical-align: middle;\n",
       "    }\n",
       "\n",
       "    .dataframe tbody tr th {\n",
       "        vertical-align: top;\n",
       "    }\n",
       "\n",
       "    .dataframe thead th {\n",
       "        text-align: right;\n",
       "    }\n",
       "</style>\n",
       "<table border=\"1\" class=\"dataframe\">\n",
       "  <thead>\n",
       "    <tr style=\"text-align: right;\">\n",
       "      <th></th>\n",
       "      <th>start</th>\n",
       "      <th>duration</th>\n",
       "    </tr>\n",
       "  </thead>\n",
       "  <tbody>\n",
       "    <tr>\n",
       "      <th>count</th>\n",
       "      <td>738.000000</td>\n",
       "      <td>738.000000</td>\n",
       "    </tr>\n",
       "    <tr>\n",
       "      <th>mean</th>\n",
       "      <td>1.384648</td>\n",
       "      <td>7.508794</td>\n",
       "    </tr>\n",
       "    <tr>\n",
       "      <th>std</th>\n",
       "      <td>1.395167</td>\n",
       "      <td>1.294736</td>\n",
       "    </tr>\n",
       "    <tr>\n",
       "      <th>min</th>\n",
       "      <td>-2.970000</td>\n",
       "      <td>1.270000</td>\n",
       "    </tr>\n",
       "    <tr>\n",
       "      <th>25%</th>\n",
       "      <td>0.455000</td>\n",
       "      <td>6.830000</td>\n",
       "    </tr>\n",
       "    <tr>\n",
       "      <th>50%</th>\n",
       "      <td>1.170000</td>\n",
       "      <td>7.580000</td>\n",
       "    </tr>\n",
       "    <tr>\n",
       "      <th>75%</th>\n",
       "      <td>2.165000</td>\n",
       "      <td>8.270000</td>\n",
       "    </tr>\n",
       "    <tr>\n",
       "      <th>max</th>\n",
       "      <td>7.830000</td>\n",
       "      <td>13.000000</td>\n",
       "    </tr>\n",
       "  </tbody>\n",
       "</table>\n",
       "</div>"
      ],
      "text/plain": [
       "            start    duration\n",
       "count  738.000000  738.000000\n",
       "mean     1.384648    7.508794\n",
       "std      1.395167    1.294736\n",
       "min     -2.970000    1.270000\n",
       "25%      0.455000    6.830000\n",
       "50%      1.170000    7.580000\n",
       "75%      2.165000    8.270000\n",
       "max      7.830000   13.000000"
      ]
     },
     "execution_count": 15,
     "metadata": {},
     "output_type": "execute_result"
    }
   ],
   "source": [
    "duration_bar[['start', 'duration']].describe()"
   ]
  },
  {
   "cell_type": "raw",
   "id": "dee5789f-cb6d-44cd-8c7d-01fbc3e3344f",
   "metadata": {},
   "source": [
    "Выводы:\n",
    "    Время начала сна в среднем около 01:30\n",
    "    Средняя длительность сна - 7,5 часов\n",
    "    На время начала сна сильно влияет рабочий график (заметны сдвиги из-за переработок в начале месяца, загруженных периодов в мае-августе)\n",
    "    С сентября 2022 заметно ухудшение времени начала сна и длительности сна (начала страдать бессонницей)\n",
    "    С декабря 2022 сдвигается время начала сна и пробуждения - за счет увольнения с работы"
   ]
  },
  {
   "cell_type": "raw",
   "id": "12babcb4-72b5-4cf1-b9e1-49b599c63986",
   "metadata": {
    "tags": []
   },
   "source": [
    "Потенциальные направления анализа:\n",
    "    1) Разделить выходные и праздники от рабочих дней\n",
    "    2) Посмотреть агреггированные значения по рабочим дням (1,2,3 и т.д. рабочий день - привязка к рабочему графику)\n",
    "    3) Сравнить агреггированные значения помесячно"
   ]
  }
 ],
 "metadata": {
  "kernelspec": {
   "display_name": "Python 3 (ipykernel)",
   "language": "python",
   "name": "python3"
  },
  "language_info": {
   "codemirror_mode": {
    "name": "ipython",
    "version": 3
   },
   "file_extension": ".py",
   "mimetype": "text/x-python",
   "name": "python",
   "nbconvert_exporter": "python",
   "pygments_lexer": "ipython3",
   "version": "3.11.3"
  }
 },
 "nbformat": 4,
 "nbformat_minor": 5
}
